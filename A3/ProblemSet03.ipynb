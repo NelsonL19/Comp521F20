{
 "cells": [
  {
   "cell_type": "markdown",
   "metadata": {
    "course": "Comp521F19",
    "problemset": 3,
    "section": "header"
   },
   "source": [
    "<div style=\"text-align: center;\">\n",
    "<h1>The University of North Carolina at Chapel Hill</h1>\n",
    "<h1>Comp 521 Files and Databases - Fall 2019</h1>\n",
    "<h1 style=\"font-size: 250%;\">Problem Set #3</h1>\n",
    "<h1 style=\"font-size: 200%;\">Version 1.1</h1>\n",
    "<h1>Issued Tuesday 9/22/2020; Due Thursday 10/08/2020</h1>\n",
    "</div>\n",
    "\n",
    "**Homework Information:** The answer cells in this notebook contain metadata that enable it to be automatically parsed. Thus, you must enter your answers *only* into the cells provided. Do not delete any answer cell and/or add a new one to replace it. If you do so by accident, download a new copy of the problem set's notebook and transfer your answers into it. You can introduce new 'coding' cells in an effort to test approaches to problems, however, these introduced cells will not be considered when grading.\n",
    "\n",
    "Finally, some of the problems are probably too long to be done the night before the due date, so plan accordingly. Late problem sets will be accepted, but your lowest problem-set grade will be dropped. Feel free to get help from others, but the work you submit in should be your own."
   ]
  },
  {
   "cell_type": "code",
   "execution_count": 2,
   "metadata": {
    "section": "signature"
   },
   "outputs": [],
   "source": [
    "# Please fill out the entries in this Cell.\n",
    "# By sigining it you are agreeing to the UNC honor code\n",
    "class Student:\n",
    "    first = \"Nelson\"\n",
    "    last = \"Lopez\"\n",
    "    onyen = \"nelson19\"\n",
    "    pid = \"730157511\""
   ]
  },
  {
   "cell_type": "markdown",
   "metadata": {
    "section": "setup"
   },
   "source": [
    "In the following questions you will need to write Python3 programs to perform queries\n",
    "    on and modify the <a href=\"http://csbio.unc.edu/mcmillan/Media/NCCOVID19.db\" download>NCCOVID19.db</a>\n",
    "    database used in Problem Set #2. **You are only allowed to import the standard \"sqlite3\"\n",
    "    and the \"time\" Python packages.**"
   ]
  },
  {
   "cell_type": "markdown",
   "metadata": {
    "case": 0,
    "key": "coaches",
    "number": 1,
    "section": "problem"
   },
   "source": [
    "---\n",
    "**Problem 1:** The file <a href=\"http://csbio.unc.edu/mcmillan/Media/NC2018Mortality.csv\" download=\"NC2018Mortality.csv\">NC2018Mortality.csv</a> contains a list of deaths by race and sex in each of North Carolina's counties. Write a Python3 program that creates a new table in the NCCOVID19.db database and then loads that table into the database using values from this file. The table should have the following schema:\n",
    "\n",
    "<table style=\"border-collapse: collapse; border: 1px solid black;\"><tbody>\n",
    "<tr style=\"border-collapse: collapse; border: 1px solid black;\">\n",
    "    <th colspan=\"7\" style=\"text-align:center; background-color: skyblue;\">Mortality</th></tr>\n",
    "<tr style=\"border-collapse: collapse; border: 1px solid black;\">\n",
    "    <td style=\"border-collapse: collapse; border: 1px solid black;\"><u>fips</u></td>\n",
    "    <td style=\"border-collapse: collapse; border: 1px solid black;\"><u>year</u></td>\n",
    "    <td style=\"border-collapse: collapse; border: 1px solid black;\"><u>race</u></td>\n",
    "    <td style=\"border-collapse: collapse; border: 1px solid black;\"><u>sex</u></td>\n",
    "    <td style=\"border-collapse: collapse; border: 1px solid black;\">count</td>\n",
    "</tr>\n",
    "</tbody></table>\n",
    "\n",
    "Do not parse the file using pandas or Python's built-in \"csv\" modules \"reader\" method. This will require that you open the file, read its contents, split them into lines, extract the header line,  "
   ]
  },
  {
   "cell_type": "code",
   "execution_count": 1,
   "metadata": {
    "number": 1,
    "section": "answer",
    "tags": []
   },
   "outputs": [],
   "source": [
    "import sqlite3\n",
    "\n",
    "db = sqlite3.connect('NCCOVID19.db')\n",
    "cursor = db.cursor()\n",
    "\n",
    "sql1='''CREATE TABLE IF NOT EXISTS Mortality (\n",
    "    fips INTEGER,\n",
    "    year INTEGER,\n",
    "    race TEXT,\n",
    "    sex TEXT,\n",
    "    count INTEGER,\n",
    "    PRIMARY KEY (fips, year, race, sex),\n",
    "    FOREIGN KEY(fips) REFERENCES County(fips))'''\n",
    "\n",
    "cursor.execute(sql1)\n",
    "\n",
    "fd = open('NC2018Mortality.csv', 'r')\n",
    "s = fd.read()\n",
    "s = s.split('\\n')\n",
    "\n",
    "first = 0;\n",
    "for county in s:\n",
    "    if county == \"County,white-male,white-female,black-male,black-female,asian-male,asian-female,aian-male,aian-female,other-male,other-female\":\n",
    "        continue\n",
    "    if county == \"\":\n",
    "        continue\n",
    "\n",
    "    x = county.split(',')\n",
    "    countyName = x[0].upper()\n",
    "    \n",
    "    \n",
    "    sql2 = '''SELECT County.fips FROM County WHERE UPPER(County.name) = ?'''\n",
    "    cursor.execute(sql2,(x[0].upper(),))\n",
    "    countyfips = int(str((cursor.fetchall()))[2:7])\n",
    "    year = 2018\n",
    "\n",
    "    count = 1\n",
    "    for pop in x:\n",
    "        try:\n",
    "            pop = int(pop)\n",
    "        except:\n",
    "            continue\n",
    "        popcount = pop\n",
    "        if count == 1: #White Male\n",
    "            sql = '''INSERT INTO Mortality (fips, year, race, sex, count)\n",
    "            VALUES (?, ?, ?, ?, ?)'''\n",
    "            cursor.execute(sql, (countyfips, year, \"white\", \"male\", popcount))\n",
    "        if count == 2: #White Female\n",
    "            sql = '''INSERT INTO Mortality (fips, year, race, sex, count)\n",
    "            VALUES (?, ?, ?, ?, ?)'''\n",
    "            cursor.execute(sql, (countyfips, year, \"white\", \"female\", popcount))\n",
    "        if count == 3: #Black Male\n",
    "            sql = '''INSERT INTO Mortality (fips, year, race, sex, count)\n",
    "            VALUES (?, ?, ?, ?, ?)'''\n",
    "            cursor.execute(sql, (countyfips, year, \"black\", \"male\", popcount))\n",
    "        if count == 4: #Black Female\n",
    "            sql = '''INSERT INTO Mortality (fips, year, race, sex, count)\n",
    "            VALUES (?, ?, ?, ?, ?)'''\n",
    "            cursor.execute(sql, (countyfips, year, \"black\", \"female\", popcount))\n",
    "        if count == 5: #Asian Male\n",
    "            sql = '''INSERT INTO Mortality (fips, year, race, sex, count)\n",
    "            VALUES (?, ?, ?, ?, ?)'''\n",
    "            cursor.execute(sql, (countyfips, year, \"asian\", \"male\", popcount))\n",
    "        if count == 6: #Asian Female\n",
    "            sql = '''INSERT INTO Mortality (fips, year, race, sex, count)\n",
    "            VALUES (?, ?, ?, ?, ?)'''\n",
    "            cursor.execute(sql, (countyfips, year, \"asian\", \"female\", popcount))\n",
    "        if count == 7: #aian Male\n",
    "            sql = '''INSERT INTO Mortality (fips, year, race, sex, count)\n",
    "            VALUES (?, ?, ?, ?, ?)'''\n",
    "            cursor.execute(sql, (countyfipaians, year, \"\", \"male\", popcount))\n",
    "        if count == 8: #aian Female\n",
    "            sql = '''INSERT INTO Mortality (fips, year, race, sex, count)\n",
    "            VALUES (?, ?, ?, ?, ?)'''\n",
    "            cursor.execute(sql, (countyfips, year, \"aian\", \"female\", popcount))\n",
    "        if count == 9: #other Male\n",
    "            sql = '''INSERT INTO Mortality (fips, year, race, sex, count)\n",
    "            VALUES (?, ?, ?, ?, ?)'''\n",
    "            cursor.execute(sql, (countyfips, year, \"other\", \"male\", popcount))\n",
    "        if count == 10: #other Female\n",
    "            sql = '''INSERT INTO Mortality (fips, year, race, sex, count)\n",
    "            VALUES (?, ?, ?, ?, ?)'''\n",
    "            cursor.execute(sql, (countyfips, year, \"other\", \"female\", popcount))\n",
    "        count+=1\n",
    "        db.commit()\n",
    "    \n",
    "    \n",
    "db.close()"
   ]
  },
  {
   "cell_type": "markdown",
   "metadata": {
    "case": 1,
    "key": "coaches",
    "number": 2,
    "section": "problem"
   },
   "source": [
    "---\n",
    "**Problem 2:** Use the new table that you created in **Problem 1** to create the following Python3 function that estimates the number of 2018 deaths in each demographic category for a given county. These estimates are based on the assumption that *the number of mortality deaths in each demographic's age range is proportional to the 2018 population fraction in that same demogrphic's age range*. Your function should return a list of <code>(race,sex,agelo,agehi,count)</code> tuples, where the sum of all counts should match the total number of 2018 deaths in that county. All <code>counts</code> should be integers. All of your code must be within the body of the given function."
   ]
  },
  {
   "cell_type": "code",
   "execution_count": 4,
   "metadata": {
    "collapsed": true,
    "number": 2,
    "section": "answer"
   },
   "outputs": [],
   "source": [
    "import sqlite3\n",
    "\n",
    "def covidDemographicsEstimate(countyName):\n",
    "    demographicGroup = []\n",
    "    db = sqlite3.connect(\"NCCOVID19.db\")\n",
    "    db.row_factory = sqlite3.Row\n",
    "    db.text_factory = str\n",
    "    cursor = db.cursor()\n",
    "    # Enter your Python3 code here\n",
    "    return demographicGroup"
   ]
  },
  {
   "cell_type": "markdown",
   "metadata": {
    "case": 0,
    "key": "repeats",
    "number": 3,
    "section": "problem"
   },
   "source": [
    "---\n",
    "**Problem 3:** In the space below write a SQL query that generates a list of (countyName, covidDeaths, totalDeaths2018, percentage) for all counties for which the 2020 Covid-19 deaths exceed 5% of the total deaths for that same county in 2018."
   ]
  },
  {
   "cell_type": "raw",
   "metadata": {
    "number": 3,
    "section": "answer"
   },
   "source": [
    "Enter the SQL query your answer here"
   ]
  },
  {
   "cell_type": "markdown",
   "metadata": {
    "case": 1,
    "key": "repeats",
    "number": 4,
    "section": "problem"
   },
   "source": [
    "---\n",
    "**Problem 4:** In the space below wirte a Python3 function that returns a list of all dates for which the given \"fips\" number accounts for at least the given \"percent\" of the total covid cases on that date. As an example, the NCCOVID19.db database includes Covid19 records that are not associated with any county. These records have a fips of 0. When your function is called with <code>AtLeastPercent(0, 10.0)</code> it should return the following list of dates:\n",
    "\n",
    "     ['2020-06-05', '2020-06-10', '2020-06-15', '2020-08-12']"
   ]
  },
  {
   "cell_type": "code",
   "execution_count": 4,
   "metadata": {
    "collapsed": true,
    "number": 4,
    "section": "answer"
   },
   "outputs": [],
   "source": [
    "import sqlite3\n",
    "\n",
    "def AtLeastPercent(fips, percent):\n",
    "    dateList = []\n",
    "    db = sqlite3.connect(\"NCCOVID19.db\")\n",
    "    db.row_factory = sqlite3.Row\n",
    "    db.text_factory = str\n",
    "    cursor = db.cursor()\n",
    "    # Enter your Python3 code here\n",
    "    return dateList"
   ]
  },
  {
   "cell_type": "markdown",
   "metadata": {
    "case": 0,
    "key": "repeatPlayers",
    "number": 5,
    "section": "problem"
   },
   "source": [
    "---\n",
    "**Problem 5:** The following query was designed to identify dates where two Counties reported the same number of cases on the same date:<br>\n",
    "        <pre>\n",
    "        SELECT C1.name, C2.name, V1.date, V1.cases\n",
    "        FROM County C1, Covid19 V1, County C2, Covid19 V2\n",
    "        WHERE C1.fips=V1.fips AND C2.fips=V2.fips\n",
    "          AND V1.cases=V2.cases AND V1.date=V2.date AND V1.fips < V2.fips AND V1.cases >= 1\n",
    "        </pre>\n",
    "        \n",
    "This query is slow using the default NCCOVID19.db. Write a Python3 program to execute and time\n",
    "this query along with time to save all rows that it returns into a list for subsequent processing.\n",
    "You should verify that your list actually extracts data from the rows. In the cell provided\n",
    "below give the number of rows returned and the time required (no code please)."
   ]
  },
  {
   "cell_type": "raw",
   "metadata": {
    "number": 5,
    "section": "answer"
   },
   "source": [
    "Enter the time for the query:\n",
    "\n",
    "Enter the number of rows reported:"
   ]
  },
  {
   "cell_type": "markdown",
   "metadata": {
    "case": 1,
    "key": "repeatPlayers",
    "number": 6,
    "section": "problem"
   },
   "source": [
    "---\n",
    "**Problem 6:** Next create an index to improve the performance of this query. In the cell provided below give\n",
    "the \"CREATE INDEX\" statement that you found provides the best performance improvement. Also include\n",
    "the time required for the query after creating the index you chose."
   ]
  },
  {
   "cell_type": "raw",
   "metadata": {
    "number": 6,
    "section": "answer"
   },
   "source": [
    "Enter the SQL command for the index that you created:\n",
    "\n",
    "Enter the time for the query using your index:"
   ]
  },
  {
   "cell_type": "markdown",
   "metadata": {},
   "source": [
    "Click [here to submit](http://csbio.unc.edu/mcmillan/index.py?run=PS.upload) your completed problem set.\n",
    "\n",
    "You can submit it as many times as you would like, but only the last submitted version will be graded. If the last submission was after the due date the final score will be reduced accordingly. "
   ]
  }
 ],
 "metadata": {
  "kernelspec": {
   "display_name": "Python 3.8.3 32-bit",
   "language": "python",
   "name": "python38332bit4bcd8b0750f84d6b9eca16b5e2da1cfe"
  },
  "language_info": {
   "codemirror_mode": {
    "name": "ipython",
    "version": 3
   },
   "file_extension": ".py",
   "mimetype": "text/x-python",
   "name": "python",
   "nbconvert_exporter": "python",
   "pygments_lexer": "ipython3",
   "version": "3.8.3-final"
  }
 },
 "nbformat": 4,
 "nbformat_minor": 1
}