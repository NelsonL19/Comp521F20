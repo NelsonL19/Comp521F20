{
 "cells": [
  {
   "cell_type": "markdown",
   "metadata": {
    "course": "Comp521F19",
    "problemset": 2,
    "section": "header"
   },
   "source": [
    "<div style=\"text-align: center;\">\n",
    "<h1>The University of North Carolina at Chapel Hill</h1>\n",
    "<h1>Comp 521 Files and Databases - Fall 2020</h1>\n",
    "<h1 style=\"font-size: 250%;\">Problem Set #2</h1>\n",
    "<h1 style=\"font-size: 200%;\">Version 1.1</h1>\n",
    "<h1>Issued Thursday 9/3/2020; Due Thursday 9/17/2020</h1>\n",
    "</div>\n",
    "\n",
    "**Homework Information:** The answer cells in this notebook contain metadata that enable it to be automatically parsed. Thus, you must enter your answers *only* into the cells provided. Do not delete any answer cell and/or add a new one to replace it. If you do so by accident, download a new copy of the problem set's notebook and transfer your answers into it. You can introduce new 'coding' cells in an effort to test approaches to problems, however, these introduced cells will not be considered when grading.\n",
    "\n",
    "Finally, some of the problems are probably too long to be done the night before the due date, so plan accordingly. Late problem sets will be accepted, but your lowest problem-set grade will be dropped. Feel free to get help from others, but the work you submit in should be your own."
   ]
  },
  {
   "cell_type": "code",
   "execution_count": 4,
   "metadata": {
    "section": "signature"
   },
   "outputs": [],
   "source": [
    "# Do not make any edits in this cell!\n",
    "class Student:\n",
    "    first = \"YourGivenName\"\n",
    "    last = \"YourFamilyName\"\n",
    "    onyen = \"UNC ONYEN\"\n",
    "    pid = \"9 Digits\""
   ]
  },
  {
   "cell_type": "markdown",
   "metadata": {
    "section": "setup"
   },
   "source": [
    "In the following questions you are asked to write a single SQL query to find the requested results from a database derived from the demographic, COVID-19, and hospital data used in Problem set #1. The database has the following tables:\n",
    "<table style=\"border:none;\"><tbody>\n",
    "        <tr style=\"border:none;\">\n",
    "            <td style=\"padding:0px 20px;border:none;\" colspan=\"2\">\n",
    "            <table style=\"border-collapse: collapse; border: 1px solid black;\"><tbody>\n",
    "            <tr style=\"border-collapse: collapse; border: 1px solid black;\">\n",
    "                <th colspan=\"7\" style=\"text-align:center; background-color: skyblue;\">Demograpics</th></tr>\n",
    "            <tr style=\"border-collapse: collapse; border: 1px solid black;\">\n",
    "                <td style=\"border-collapse: collapse; border: 1px solid black;\"><u>fips</u></td>\n",
    "                <td style=\"border-collapse: collapse; border: 1px solid black;\"><u>year</u></td>\n",
    "                <td style=\"border-collapse: collapse; border: 1px solid black;\"><u>race</u></td>\n",
    "                <td style=\"border-collapse: collapse; border: 1px solid black;\"><u>sex</u></td>\n",
    "                <td style=\"border-collapse: collapse; border: 1px solid black;\"><u>agelo</u></td>\n",
    "                <td style=\"border-collapse: collapse; border: 1px solid black;\">agehi</td>\n",
    "                <td style=\"border-collapse: collapse; border: 1px solid black;\">count</td>\n",
    "            </tr>\n",
    "            </tbody></table>\n",
    "            </td>\n",
    "            <td style=\"padding:0px 20px;border:none;\" colspan=\"2\">\n",
    "            <table style=\"border-collapse: collapse; border: 1px solid black;\"><tbody>\n",
    "            <tr style=\"border-collapse: collapse; border: 1px solid black;\">\n",
    "                <th colspan=\"5\" style=\"text-align:center; background-color: skyblue;\">County</th></tr>\n",
    "            <tr style=\"border-collapse: collapse; border: 1px solid black;\">\n",
    "                <td style=\"border-collapse: collapse; border: 1px solid black;\"><u>fips</u></td>\n",
    "                <td style=\"border-collapse: collapse; border: 1px solid black;\">name</td>\n",
    "                <td style=\"border-collapse: collapse; border: 1px solid black;\">region</td>\n",
    "                <td style=\"border-collapse: collapse; border: 1px solid black;\">cog</td>\n",
    "                <td style=\"border-collapse: collapse; border: 1px solid black;\">msa</td>\n",
    "            </tr>\n",
    "            </tbody></table>\n",
    "            </td>\n",
    "            <td style=\"padding:0px 20px;border:none;\" colspan=\"2\">\n",
    "            <table style=\"border-collapse: collapse; border: 1px solid black;\"><tbody>\n",
    "            <tr style=\"border-collapse: collapse; border: 1px solid black;\">\n",
    "                <th colspan=\"4\" style=\"text-align:center; background-color: skyblue;\">Covid19</th></tr>\n",
    "            <tr style=\"border-collapse: collapse; border: 1px solid black;\">\n",
    "                <td style=\"border-collapse: collapse; border: 1px solid black;\"><u>fips</u></td>\n",
    "                <td style=\"border-collapse: collapse; border: 1px solid black;\"><u>date</u></td>\n",
    "                <td style=\"border-collapse: collapse; border: 1px solid black;\">cases</td>\n",
    "                <td style=\"border-collapse: collapse; border: 1px solid black;\">death</td>\n",
    "            </tr>\n",
    "            </tbody></table>\n",
    "            </td>\n",
    "        </tr>\n",
    "        <tr style=\"border:none;\">\n",
    "            <td colspan=\"6\" style=\"border:none;\">&nbsp;</td>\n",
    "        </tr>\n",
    "        <tr style=\"border:none;\">\n",
    "            <td style=\"padding:0px 20px;border:none;\"  colspan=\"3\">\n",
    "            <table style=\"border-collapse: collapse; border: 1px solid black;\"><tbody>\n",
    "            <tr style=\"border-collapse: collapse; border: 1px solid black;\">\n",
    "                <th colspan=\"8\" style=\"text-align:center; background-color: skyblue;\">Hospital</th></tr>\n",
    "            <tr style=\"border-collapse: collapse; border: 1px solid black;\">\n",
    "                <td style=\"border-collapse: collapse; border: 1px solid black;\"><u>hid</u></td>\n",
    "                <td style=\"border-collapse: collapse; border: 1px solid black;\">name</td>\n",
    "                <td style=\"border-collapse: collapse; border: 1px solid black;\">city</td>\n",
    "                <td style=\"border-collapse: collapse; border: 1px solid black;\">beds</td>\n",
    "                <td style=\"border-collapse: collapse; border: 1px solid black;\">icu</td>\n",
    "                <td style=\"border-collapse: collapse; border: 1px solid black;\">discharges</td>\n",
    "                <td style=\"border-collapse: collapse; border: 1px solid black;\">patientdays</td>\n",
    "                <td style=\"border-collapse: collapse; border: 1px solid black;\">revenue</td>\n",
    "            </tr>\n",
    "            </tbody></table>\n",
    "            </td>\n",
    "            <td style=\"padding:0px 20px;border:none;\" colspan=\"3\">\n",
    "            <table style=\"border-collapse: collapse; border: 1px solid black;\"><tbody>\n",
    "            <tr style=\"border-collapse: collapse; border: 1px solid black;\">\n",
    "                <th colspan=\"3\" style=\"text-align:center; background-color: skyblue;\">HospitalCounty</th></tr>\n",
    "            <tr style=\"border-collapse: collapse; border: 1px solid black;\">\n",
    "                <td style=\"border-collapse: collapse; border: 1px solid black;\"><u>hid</u></td>\n",
    "                <td style=\"border-collapse: collapse; border: 1px solid black;\"><u>fips</u></td>\n",
    "                <td style=\"border-collapse: collapse; border: 1px solid black;\">incounty</td>\n",
    "            </tr>\n",
    "            </tbody></table>\n",
    "            </td>\n",
    "        </tr>\n",
    "        </tbody></table>\n",
    "\n",
    "An <a href=\"http://csbio.unc.edu/mcmillan/Media/NCCOVID19.db\" download>example database</a> and the interactive SQL parser (<a href=\"http://csbio.unc.edu/mcmillan/Media/iSQL.py\" download>iSQL.py</a>) are provided for experimentation. You will need to copy iSQL.py into the same Jupyter Hub directory as the notebook for this problem set and invoke it as follows:\n",
    "\n",
    "    import iSQL\n",
    "    \n",
    "    query = iSQL.parser(\"NCCOVID19.db\")\n",
    "    \n",
    "\n",
    "Make sure that you copy your SQL query into the cell provided for your answer. Only that cell will be graded.\n",
    "***Warning***, if your query appears to give the correct result for the given database, that does not mean that it is correct. A correct query must give the requested result for *any* and *all* valid instances of the given database schema."
   ]
  },
  {
   "cell_type": "markdown",
   "metadata": {
    "case": 0,
    "key": "Bradshaw",
    "number": 1,
    "section": "problem"
   },
   "source": [
    "---\n",
    "**Problem 1:** Generate a table with the name, population, and region of all North Carolina counties in 2020."
   ]
  },
  {
   "cell_type": "raw",
   "metadata": {
    "number": 1,
    "section": "answer"
   },
   "source": [
    "SELECT DISTINCT County.name, SUM(Demographics.count), County.region\n",
    "FROM County, Demographics\n",
    "WHERE Demographics.year = \"2020\" AND County.fips = Demographics.fips \n",
    "GROUP BY (County.fips)"
   ]
  },
  {
   "cell_type": "markdown",
   "metadata": {
    "case": 1,
    "key": "Bradshaw",
    "number": 2,
    "section": "problem"
   },
   "source": [
    "---\n",
    "**Problem 2:** Generate a table with the name and number of hospital beds found in each North Carolina county."
   ]
  },
  {
   "cell_type": "raw",
   "metadata": {
    "number": 2,
    "section": "answer"
   },
   "source": [
    "SELECT DISTINCT County.name, SUM(Hospital.beds)\n",
    "FROM County, HospitalCounty, Hospital\n",
    "WHERE County.fips = HospitalCounty.fips AND Hospital.hid = HospitalCounty.hid\n",
    "GROUP BY (County.fips)"
   ]
  },
  {
   "cell_type": "markdown",
   "metadata": {
    "case": 4,
    "key": "Bradshaw",
    "number": 3,
    "section": "problem"
   },
   "source": [
    "---\n",
    "**Problem 3:** . Generate a table with each North Carolina County and the date of its first confirmed COVID-19 case."
   ]
  },
  {
   "cell_type": "raw",
   "metadata": {
    "number": 3,
    "section": "answer"
   },
   "source": [
    "SELECT County.name, MIN(Covid19.date)\n",
    "FROM County, Covid19\n",
    "WHERE County.fips = Covid19.fips\n",
    "GROUP BY (County.name)"
   ]
  },
  {
   "cell_type": "markdown",
   "metadata": {
    "case": 5,
    "key": "Bradshaw",
    "number": 4,
    "section": "problem"
   },
   "source": [
    "---\n",
    "**Problem 4:** Generate a list of all Hospital names and North Carolina Counties in which there is more than one hospital. "
   ]
  },
  {
   "cell_type": "raw",
   "metadata": {
    "number": 4,
    "section": "answer"
   },
   "source": [
    "SELECT Hospital.name, County.name\n",
    "FROM Hospital, County, HospitalCounty, (SELECT HospitalCounty.fips FROM HospitalCounty GROUP BY HospitalCounty.fips HAVING Count(*) > 1) AS HosCou\n",
    "WHERE County.fips = HospitalCounty.fips AND HospitalCounty.hid = Hospital.hid AND HosCou.fips = County.fips"
   ]
  },
  {
   "cell_type": "markdown",
   "metadata": {
    "case": 7,
    "key": "Bradshaw",
    "number": 5,
    "section": "problem"
   },
   "source": [
    "---\n",
    "**Problem 5:** Generate a sorted list, from high to low, of North Carolina county ratios of residents in the age range of 25 to 45 to their total population in 2020. The output should include the county's name, 25-45 population, and ratio."
   ]
  },
  {
   "cell_type": "raw",
   "metadata": {
    "number": 5,
    "section": "answer"
   },
   "source": [
    "SELECT County.name, SUM(Demographics.count) AS Population, (100.0*SUM(Demographics.count))/OverallPopulation AS Ratio\n",
    "FROM County, Demographics, (SELECT AltDemo.fips, SUM(AltDemo.count) AS OverallPopulation FROM Demographics AltDemo WHERE AltDemo.year = \"2020\" GROUP BY AltDemo.fips) AS YearDemo\n",
    "WHERE County.fips = Demographics.fips AND Demographics.agelo >= 25 AND Demographics.agehi <= 45 AND Demographics.year = \"2020\" AND YearDemo.fips = County.fips\n",
    "GROUP BY Demographics.fips\n",
    "ORDER BY Ratio DESC"
   ]
  },
  {
   "cell_type": "markdown",
   "metadata": {
    "case": 9,
    "key": "Bradshaw",
    "number": 6,
    "section": "problem"
   },
   "source": [
    "---\n",
    "**Problem 6:** Generate a sorted list, from high to low, of the largest increase in North Carolina county ratios of residents in the age range of 25 to 45 to their total population in 2020 when compared to 2000. The output should include the county's name, 25-45 population ratio in 2020, and delta of ratio change."
   ]
  },
  {
   "cell_type": "raw",
   "metadata": {
    "number": 6,
    "section": "answer"
   },
   "source": [
    "SELECT County.name, (100.0*SUM(YearRange2020.RangePopulation2020))/OverallPopulation2020 AS Ratio, ((100.0*SUM(YearRange2020.RangePopulation2020))/OverallPopulation2020-(100.0*SUM(YearRange2000.RangePopulation2000))/OverallPopulation2000) AS Delta\n",
    "FROM County, \n",
    "\n",
    "(SELECT AltDemo.fips, SUM(AltDemo.count) AS OverallPopulation2020, AltDemo.year FROM Demographics AltDemo WHERE AltDemo.year = \"2020\" GROUP BY AltDemo.fips) AS YearDemo2020, \n",
    "(SELECT AltDemo.fips, SUM(AltDemo.count) AS OverallPopulation2000, AltDemo.year FROM Demographics AltDemo WHERE AltDemo.year = \"2000\" GROUP BY AltDemo.fips) AS YearDemo2000,\n",
    "\n",
    "(SELECT AltDemo.fips, SUM(AltDemo.count) AS RangePopulation2020, AltDemo.year FROM Demographics AltDemo WHERE AltDemo.year = \"2020\" AND  AltDemo.agelo >= 25 AND AltDemo.agehi <= 45 GROUP BY AltDemo.fips) AS YearRange2020, \n",
    "(SELECT AltDemo.fips, SUM(AltDemo.count) AS RangePopulation2000, AltDemo.year FROM Demographics AltDemo WHERE AltDemo.year = \"2000\" AND  AltDemo.agelo >= 25 AND AltDemo.agehi <= 45 GROUP BY AltDemo.fips) AS YearRange2000\n",
    "\n",
    "\n",
    "WHERE YearDemo2020.fips = County.fips AND YearDemo2000.fips = County.fips AND YearRange2020.fips = County.fips AND YearRange2000.fips = County.fips\n",
    "GROUP BY County.fips\n",
    "ORDER BY Delta DESC"
   ]
  },
  {
   "cell_type": "markdown",
   "metadata": {
    "case": 10,
    "key": "Bradshaw",
    "number": 7,
    "section": "problem"
   },
   "source": [
    "---\n",
    "**Problem 7:** For each county, find the single day with the most COVID-19 deaths reported. Generate a list of each county, date, and the number of deaths."
   ]
  },
  {
   "cell_type": "raw",
   "metadata": {
    "number": 7,
    "section": "answer"
   },
   "source": [
    "SELECT County.name, Covid19.date, Covid19.deaths\n",
    "FROM County, Covid19\n",
    "WHERE Covid19.fips = County.fips AND Covid19.deaths = (SELECT MAX(Covid19.deaths) FROM Covid19 WHERE County.fips = Covid19.fips)\n",
    "GROUP BY County.fips"
   ]
  },
  {
   "cell_type": "markdown",
   "metadata": {
    "case": 11,
    "key": "Bradshaw",
    "number": 8,
    "section": "problem"
   },
   "source": [
    "---\n",
    "**Problem 8:** On what single day were the most North Carolina COVID-19 deaths reported in the given reporting interval? For that day generate a list of each county, date, and the number of deaths. Include all counties, even those that did not report a death on the given date."
   ]
  },
  {
   "cell_type": "raw",
   "metadata": {
    "number": 8,
    "section": "answer"
   },
   "source": [
    "SELECT C.name, outerdates, IFNULL(outerdeaths,0)\n",
    "FROM County C LEFT JOIN \n",
    "\n",
    "\t(SELECT Covid19.fips, Covid19.date AS outerdates, Covid19.deaths AS outerdeaths\n",
    "\tFROM Covid19 WHERE Covid19.date IN((SELECT Covid19.date FROM Covid19 GROUP BY Covid19.deaths ORDER BY Covid19.deaths DESC LIMIT 1)) ORDER BY outerdates) AS Q ON C.fips = Q.fips\n",
    "\t\n",
    "GROUP BY C.fips"
   ]
  },
  {
   "cell_type": "markdown",
   "metadata": {
    "case": 12,
    "key": "Bradshaw",
    "number": 9,
    "section": "problem"
   },
   "source": [
    "---\n",
    "**Problem 9:** Generate a list of North Carolina counties where white females of voting age (&ge; 18 years old) are the largest voting age demographic in *2020*. *In your report, provide multiple rows for each county of voting age residents broken down by race and sex. You should only include rows for countys in which the largest voting demographic is white and female.*"
   ]
  },
  {
   "cell_type": "raw",
   "metadata": {
    "number": 9,
    "section": "answer"
   },
   "source": [
    "Enter the SQL query for answer here"
   ]
  },
  {
   "cell_type": "markdown",
   "metadata": {
    "number": 10,
    "section": "problem"
   },
   "source": [
    "---\n",
    "**Problem 10:** What is the difference in total population between the age group from 45 to 54 in 2020 and the age group from 25 to 34 in *2000* for each county? Your output should be a list of counties and differences sorted from smallest (could be negative) to largest."
   ]
  },
  {
   "cell_type": "raw",
   "metadata": {
    "number": 10,
    "section": "answer"
   },
   "source": [
    "SELECT County.name, (TotalPop2020.pop2020-TotalPop2000.pop2000) AS Differences\n",
    "FROM County, \n",
    "\n",
    "(SELECT Demographics.fips, SUM(Demographics.count) AS Pop2020 FROM Demographics, County WHERE Demographics.year = \"2020\" AND Demographics.agelo >= 45 AND Demographics.agehi <= 54 AND Demographics.fips = County.fips GROUP BY Demographics.fips) AS TotalPop2020,\n",
    "(SELECT Demographics.fips, SUM(Demographics.count) AS Pop2000 FROM Demographics, County WHERE Demographics.year = \"2000\" AND Demographics.agelo >= 25 AND Demographics.agehi <= 34 AND Demographics.fips = County.fips GROUP BY Demographics.fips) AS TotalPop2000\n",
    "\n",
    "WHERE County.fips = TotalPop2020.fips AND County.fips = TotalPop2000.fips\n",
    "ORDER BY Differences ASC"
   ]
  },
  {
   "cell_type": "markdown",
   "metadata": {
    "case": 0,
    "key": "Bradshaw",
    "number": 11,
    "section": "problem"
   },
   "source": [
    "---\n",
    "**Problem 11:** What 10 counties have the highest percentage of residents over 65 years of age in *2020*? Provide both the county's name and percentage."
   ]
  },
  {
   "cell_type": "raw",
   "metadata": {
    "number": 11,
    "section": "answer"
   },
   "source": [
    "SELECT County.name, (100.0*ovr65.over65/Pop2020.totalpop) AS Percentage\n",
    "\n",
    "FROM\n",
    "County,\n",
    "(SELECT Demographics.fips, SUM(Demographics.count) AS over65 FROM Demographics WHERE Demographics.year = \"2020\" AND Demographics.agelo > 65 GROUP BY Demographics.fips) AS Ovr65,\n",
    "(SELECT Demographics.fips, SUM(Demographics.count) AS totalpop FROM Demographics WHERE Demographics.year = \"2020\" GROUP BY Demographics.fips) AS Pop2020\n",
    "\n",
    "WHERE County.fips = Pop2020.fips AND County.fips = Ovr65.fips\n",
    "ORDER BY Percentage DESC\n",
    "LIMIT 10"
   ]
  },
  {
   "cell_type": "markdown",
   "metadata": {
    "case": 1,
    "key": "Bradshaw",
    "number": 12,
    "section": "problem"
   },
   "source": [
    "---\n",
    "**Problem 12:** What counties in North Carolina do not have a hospital? Provide each county's name, population, and non-white population percentage in *2020*."
   ]
  },
  {
   "cell_type": "raw",
   "metadata": {
    "number": 12,
    "section": "answer"
   },
   "source": [
    "SELECT DISTINCT County.name, SUM(Demographics.count), (100.0*SUM(Demographics.count)/totalpop) AS NonWhitePopulationPercentage\n",
    "\n",
    "FROM County, Demographics, Hospital, HospitalCounty,  \n",
    "(SELECT HospitalCounty.fips FROM HospitalCounty GROUP BY HospitalCounty.fips HAVING Count(*) < 1) AS HosCo, \n",
    "(SELECT Demographics.fips, SUM(Demographics.count) AS totalpop FROM Demographics WHERE Demographics.year = \"2020\" GROUP BY Demographics.fips) AS Pop2020\n",
    "\n",
    "WHERE HosCo.fips = County.fips AND Pop2020.fips = County.fips AND HospitalCounty.fips = County.fips AND HospitalCounty.hid = Hospital.hid AND Demographics.race <> \"white\" AND Demographics.fips = County.fips AND Demographics.year = \"2020\"\n",
    "GROUP BY Hospital.hid"
   ]
  },
  {
   "cell_type": "markdown",
   "metadata": {
    "case": 2,
    "key": "Bradshaw",
    "number": 13,
    "section": "problem"
   },
   "source": [
    "---\n",
    "**Problem 13:**  Which counties had the highest ratio of COVID-19 cases to hospital-bed capacity? Do not consider counties that do not have a hospital and hopitals that have no beds. Output the county's name, its cases-to-bed ratio, and the day it occured. "
   ]
  },
  {
   "cell_type": "raw",
   "metadata": {
    "number": 13,
    "section": "answer"
   },
   "source": [
    "SELECT HosBed.name, 1.0*MaxCases/Capacity AS CasesToBedRatio, DateOccurred\n",
    "\n",
    "FROM \n",
    "\n",
    "(SELECT Hospital.beds AS Capacity, County.fips, County.name FROM Hospital, HospitalCounty, County WHERE HospitalCounty.incounty = 1 AND HospitalCounty.hid = Hospital.hid AND HospitalCounty.fips = County.fips AND Hospital.beds != 0 GROUP BY County.fips) AS HosBed,\n",
    "(SELECT Covid19.fips, Covid19.date AS DateOccurred, MAX(Covid19.cases) AS MaxCases FROM Covid19 GROUP BY Covid19.fips ORDER BY MaxCases DESC) AS CoronaCases\n",
    "\n",
    "WHERE HosBed.fips = CoronaCases.fips\n",
    "ORDER BY CasesToBedRatio DESC"
   ]
  },
  {
   "cell_type": "markdown",
   "metadata": {
    "case": 3,
    "key": "Bradshaw",
    "number": 14,
    "section": "problem"
   },
   "source": [
    "---\n",
    "**Problem 14:** Give a breakdown of COVID-19 cases, deaths, and hospitals by geographic region. For each of the geographic regions output the accumulated sum of COVID-19 cases and deaths since January 22, 2020, as well as the number of hospital beds in that region."
   ]
  },
  {
   "cell_type": "raw",
   "metadata": {
    "number": 14,
    "section": "answer"
   },
   "source": [
    "SELECT regioncases.region AS region, regioncases.totalcases AS SumOfCases, regiondeaths.totalbeds AS SumOfDeaths, regionbeds.totalbeds AS SumOfBeds\n",
    "\n",
    "FROM\n",
    "\n",
    "(SELECT SUM(Covid19.cases) AS totalcases, County.region FROM Covid19, County WHERE Covid19.fips = County.fips AND Covid19.date >= 2020-01-22 GROUP BY County.region) AS regioncases,\n",
    "(SELECT SUM(Covid19.deaths) AS totalbeds, County.region FROM Covid19, County WHERE Covid19.fips = County.fips AND Covid19.date >= 2020-01-22 GROUP BY County.region) As regiondeaths,\n",
    "(SELECT SUM(Hospital.beds) AS totalbeds, County.region FROM Hospital, HospitalCounty, County WHERE Hospital.hid = HospitalCounty.hid AND HospitalCounty.fips = County.fips GROUP BY County.region) AS regionbeds\n",
    "\n",
    "WHERE regioncases.region = regiondeaths.region AND regiondeaths.region = regionbeds.region"
   ]
  },
  {
   "cell_type": "markdown",
   "metadata": {
    "number": 15,
    "section": "problem"
   },
   "source": [
    "---\n",
    "**Problem 15:** On your own, use the web to find the number of ICU beds in one of the hospitals in the given database that is currently reported to be 0 in our database. Write a SQL UPDATE command that sets this value to the one you discovered."
   ]
  },
  {
   "cell_type": "raw",
   "metadata": {
    "case": 5,
    "key": "common",
    "number": 15,
    "section": "answer"
   },
   "source": [
    "UPDATE Hospital\n",
    "\n",
    "SET icu = 86\n",
    "\n",
    "WHERE Hospital.hid = 1076"
   ]
  },
  {
   "cell_type": "markdown",
   "metadata": {
    "case": 8,
    "key": "Bradshaw",
    "number": 16,
    "section": "problem"
   },
   "source": [
    "---\n",
    "**Problem 16:** Find one of the counties that has no hospital. On your own, use the web to find a nearby hospital in a bordering NC county. Write an INSERT command that inserts this hospital into the HospitalCounty table to indicate that this hospital serves a county where it is not located. "
   ]
  },
  {
   "cell_type": "raw",
   "metadata": {
    "number": 16,
    "section": "answer"
   },
   "source": [
    "INSERT INTO HospitalCounty (hid, fips, incounty)\n",
    "VALUES (1076, 37037, 1)"
   ]
  },
  {
   "cell_type": "markdown",
   "metadata": {
    "case": 13,
    "key": "Bradshaw",
    "number": 17,
    "section": "problem"
   },
   "source": [
    "---\n",
    "**Problem 17:** New confirmed COVID-19 cases and deaths are reported daily. On your own, use the web to find the number of confirmed cases and deaths for some county not provided in the database. Write an INSERT command to add this new county and date to the COVID-19 table."
   ]
  },
  {
   "cell_type": "raw",
   "metadata": {
    "number": 17,
    "section": "answer"
   },
   "source": [
    "INSERT INTO Covid19 (fips, date, cases, deaths)\n",
    "VALUES (37119, \"2020-09-16\", 38, 4)"
   ]
  },
  {
   "cell_type": "markdown",
   "metadata": {
    "case": 15,
    "key": "Bradshaw",
    "number": 18,
    "section": "problem"
   },
   "source": [
    "---\n",
    "**Problem 18:** In the given database the numbers of COVID cases and deaths are not broken down according to sex. Assume that this data becomes available. Write *one or more* ALTER TABLE commands that include separate counts for confirmed cases and deaths according to sex, with the assumption that the total case counts includes both sexes as well as cases where the sex was not reported."
   ]
  },
  {
   "cell_type": "raw",
   "metadata": {
    "number": 18,
    "section": "answer"
   },
   "source": [
    "ALTER TABLE Covid19\n",
    "ADD maledeaths int;\n",
    "\n",
    "\n",
    "ALTER TABLE Covid19\n",
    "ADD femaledeaths int;\n",
    "\n",
    "ALTER TABLE Covid19\n",
    "ADD malecases int;\n",
    "\n",
    "ALTER TABLE Covid19\n",
    "ADD femalecases int;"
   ]
  },
  {
   "cell_type": "markdown",
   "metadata": {
    "case": 18,
    "key": "Bradshaw",
    "number": 19,
    "section": "problem"
   },
   "source": [
    "---\n",
    "**Problem 19:** Specify a CHECK that enforces that the sex-specific case and death counts are always &le; to the total counts based on your modified table from problem 18. *(this was part of problem 18 in V1.0)*"
   ]
  },
  {
   "cell_type": "raw",
   "metadata": {
    "number": 19,
    "section": "answer"
   },
   "source": [
    "CHECK (Covid19.malecases + Covid19.femalecases <= Covid19.cases AND Covid19.maledeaths + Covid19.femaleDeaths <= Covid19.deaths)"
   ]
  },
  {
   "cell_type": "markdown",
   "metadata": {
    "case": 24,
    "key": "Bradshaw",
    "number": 20,
    "section": "problem"
   },
   "source": [
    "---\n",
    "**Problem 20:** Generate a list of all hosptials such that the county where they are located appears in their name. *(this was problem 19 in V1.0)*"
   ]
  },
  {
   "cell_type": "raw",
   "metadata": {
    "number": 20,
    "section": "answer"
   },
   "source": [
    "SELECT Hospital.name\n",
    "FROM Hospital, County, HospitalCounty\n",
    "WHERE Hospital.name LIKE '%' ||county.name|| '%' AND Hospital.hid = HospitalCounty.hid AND County.fips = HospitalCounty.fips"
   ]
  },
  {
   "cell_type": "markdown",
   "metadata": {},
   "source": [
    "Click [here to submit](http://csbio.unc.edu/mcmillan/index.py?run=PS.upload) your completed problem set.\n",
    "\n",
    "You can submit it as many times as you would like, but only the last submitted version will be graded. If the last submission was after the due date the final score will be reduced accordingly. "
   ]
  }
 ],
 "metadata": {
  "kernelspec": {
   "display_name": "Python 3",
   "language": "python",
   "name": "python3"
  },
  "language_info": {
   "codemirror_mode": {
    "name": "ipython",
    "version": 3
   },
   "file_extension": ".py",
   "mimetype": "text/x-python",
   "name": "python",
   "nbconvert_exporter": "python",
   "pygments_lexer": "ipython3",
   "version": "3.8.3"
  }
 },
 "nbformat": 4,
 "nbformat_minor": 1
}
